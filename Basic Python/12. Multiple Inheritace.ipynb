{
 "cells": [
  {
   "cell_type": "markdown",
   "metadata": {},
   "source": [
    "## Exercise: Multiple Inheritance\n",
    "\n",
    "Real Life Example :\n",
    "1. Create multiple inheritance on teacher,student and youtuber.\n",
    "\n",
    "\n",
    "```\n",
    "Q. If a student pursuing a master's degree also becomes a teacher, what should we do??\n",
    "\n",
    "Ans :  just make subclass from  teacher so that student will become teacher\n",
    "```\n",
    "2. Now student is teacher as well as youtuber then what???\n",
    "\n",
    "\n",
    "```\n",
    "-just use multiple inheritance for these three relations\n",
    "\n",
    "```\n"
   ]
  },
  {
   "cell_type": "markdown",
   "metadata": {},
   "source": []
  },
  {
   "cell_type": "code",
   "execution_count": 1,
   "metadata": {},
   "outputs": [
    {
     "ename": "TypeError",
     "evalue": "Cannot create a consistent method resolution\norder (MRO) for bases teacher, student",
     "output_type": "error",
     "traceback": [
      "\u001b[1;31m---------------------------------------------------------------------------\u001b[0m",
      "\u001b[1;31mTypeError\u001b[0m                                 Traceback (most recent call last)",
      "Cell \u001b[1;32mIn[1], line 14\u001b[0m\n\u001b[0;32m     11\u001b[0m     \u001b[38;5;28;01mdef\u001b[39;00m\u001b[38;5;250m \u001b[39m\u001b[38;5;21mmasters\u001b[39m(\u001b[38;5;28mself\u001b[39m):\n\u001b[0;32m     12\u001b[0m         \u001b[38;5;28mself\u001b[39m\u001b[38;5;241m.\u001b[39mmasters \u001b[38;5;241m=\u001b[39m \u001b[38;5;124m\"\u001b[39m\u001b[38;5;124mMaster\u001b[39m\u001b[38;5;124m'\u001b[39m\u001b[38;5;124ms Degree\u001b[39m\u001b[38;5;124m\"\u001b[39m\n\u001b[1;32m---> 14\u001b[0m \u001b[38;5;28;01mclass\u001b[39;00m\u001b[38;5;250m \u001b[39m\u001b[38;5;21;01myoutuber\u001b[39;00m(teacher,student):\n\u001b[0;32m     15\u001b[0m     \u001b[38;5;28;01mdef\u001b[39;00m\u001b[38;5;250m \u001b[39m\u001b[38;5;21m__init__\u001b[39m(\u001b[38;5;28mself\u001b[39m):\n\u001b[0;32m     16\u001b[0m         \u001b[38;5;28mprint\u001b[39m(\u001b[38;5;124m\"\u001b[39m\u001b[38;5;124mYoutuber Class Created\u001b[39m\u001b[38;5;124m\"\u001b[39m)\n",
      "\u001b[1;31mTypeError\u001b[0m: Cannot create a consistent method resolution\norder (MRO) for bases teacher, student"
     ]
    }
   ],
   "source": [
    "class teacher:\n",
    "    def __init__(self):\n",
    "        print(\"Class Teacher created\")\n",
    "    def isteacher(self):\n",
    "        print(\"Is a teacher\")\n",
    "\n",
    "class student(teacher):\n",
    "    def __init__(self):\n",
    "        print(\"Student Class Created\")\n",
    "    \n",
    "    def masters(self):\n",
    "        self.masters = \"Master's Degree\"\n",
    "\n",
    "class youtuber(teacher,student):\n",
    "    def __init__(self):\n",
    "        print(\"Youtuber Class Created\")\n",
    "\n",
    "tom = student()\n",
    "\n"
   ]
  }
 ],
 "metadata": {
  "kernelspec": {
   "display_name": "Python 3",
   "language": "python",
   "name": "python3"
  },
  "language_info": {
   "codemirror_mode": {
    "name": "ipython",
    "version": 3
   },
   "file_extension": ".py",
   "mimetype": "text/x-python",
   "name": "python",
   "nbconvert_exporter": "python",
   "pygments_lexer": "ipython3",
   "version": "3.10.0"
  }
 },
 "nbformat": 4,
 "nbformat_minor": 2
}
