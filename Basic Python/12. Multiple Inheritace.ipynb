{
 "cells": [
  {
   "cell_type": "markdown",
   "metadata": {},
   "source": [
    "## Exercise: Multiple Inheritance\n",
    "\n",
    "Real Life Example :\n",
    "1. Create multiple inheritance on teacher,student and youtuber.\n",
    "\n",
    "\n",
    "```\n",
    "Q. If a student pursuing a master's degree also becomes a teacher, what should we do??\n",
    "\n",
    "Ans :  just make subclass from  teacher so that student will become teacher\n",
    "```\n",
    "2. Now student is teacher as well as youtuber then what???\n",
    "\n",
    "\n",
    "```\n",
    "-just use multiple inheritance for these three relations\n",
    "\n",
    "```\n"
   ]
  },
  {
   "cell_type": "code",
   "execution_count": 3,
   "metadata": {},
   "outputs": [
    {
     "name": "stdout",
     "output_type": "stream",
     "text": [
      "Teacher Class created\n",
      "Student Class Created\n"
     ]
    }
   ],
   "source": [
    "class teacher:\n",
    "    def __init__(self):\n",
    "        print(\"Teacher Class created\")\n",
    "    def isteacher(self):\n",
    "        print(\"Is a teacher\")\n",
    "\n",
    "class student(teacher):\n",
    "    def __init__(self):\n",
    "        super().__init__()\n",
    "        print(\"Student Class Created\")\n",
    "    \n",
    "    def masters(self):\n",
    "        self.masters = \"Master's Degree\"\n",
    "\n",
    "class youtuber(student):\n",
    "    def __init__(self):\n",
    "        print(\"Youtuber Class Created\")\n",
    "\n",
    "tom = student()\n",
    "\n"
   ]
  }
 ],
 "metadata": {
  "kernelspec": {
   "display_name": "Python 3",
   "language": "python",
   "name": "python3"
  },
  "language_info": {
   "codemirror_mode": {
    "name": "ipython",
    "version": 3
   },
   "file_extension": ".py",
   "mimetype": "text/x-python",
   "name": "python",
   "nbconvert_exporter": "python",
   "pygments_lexer": "ipython3",
   "version": "3.10.0"
  }
 },
 "nbformat": 4,
 "nbformat_minor": 2
}
