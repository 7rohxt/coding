{
 "cells": [
  {
   "cell_type": "markdown",
   "metadata": {},
   "source": [
    "## Exercise: Iterators\n",
    "\n",
    "1. Create an iterator for fibonacci series in such a way that each next returns the next element from fibonacci series.\n",
    "2. The iterator should stop when it reaches a `limit` defined in the constructor.\n"
   ]
  }
 ],
 "metadata": {
  "language_info": {
   "name": "python"
  }
 },
 "nbformat": 4,
 "nbformat_minor": 2
}
