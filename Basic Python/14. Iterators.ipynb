{
 "cells": [
  {
   "cell_type": "markdown",
   "metadata": {},
   "source": [
    "## Exercise: Iterators\n",
    "\n",
    "1. Create an iterator for fibonacci series in such a way that each next returns the next element from fibonacci series.\n",
    "2. The iterator should stop when it reaches a `limit` defined in the constructor.\n"
   ]
  },
  {
   "cell_type": "code",
   "execution_count": null,
   "metadata": {},
   "outputs": [
    {
     "name": "stdout",
     "output_type": "stream",
     "text": [
      "0\n",
      "1\n",
      "1\n",
      "2\n",
      "3\n",
      "5\n",
      "8\n",
      "13\n",
      "21\n",
      "34\n"
     ]
    }
   ],
   "source": [
    "def fibonacci():\n",
    "    a = 0 \n",
    "    b = 1\n",
    "    while a < 50:\n",
    "        print(f\"{a}\")\n",
    "\n",
    "        # Tuple unpacking technique\n",
    "        a,b = b,a+b   \n",
    "\n",
    "        # Using temp variable\n",
    "        # c = a\n",
    "        # a = b\n",
    "        # b = b + c\n",
    "\n",
    "fibonacci()\n"
   ]
  }
 ],
 "metadata": {
  "kernelspec": {
   "display_name": "Python 3",
   "language": "python",
   "name": "python3"
  },
  "language_info": {
   "codemirror_mode": {
    "name": "ipython",
    "version": 3
   },
   "file_extension": ".py",
   "mimetype": "text/x-python",
   "name": "python",
   "nbconvert_exporter": "python",
   "pygments_lexer": "ipython3",
   "version": "3.8.0"
  }
 },
 "nbformat": 4,
 "nbformat_minor": 2
}
