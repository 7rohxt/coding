{
 "cells": [
  {
   "cell_type": "markdown",
   "metadata": {},
   "source": [
    "## Exercise: Raise Exception And Finally\n",
    "\n",
    "## Exercise: Raise Exception And Finally\n",
    "\n",
    "1. Create a custom exception AdultException.\n",
    "\n",
    "2. Create a class Person with attributes name and age in it.\n",
    "\n",
    "3. Create a function get_minor_age() in the class. It throws an exception if the person is adult otherwise returns age.\n",
    "\n",
    "4. Create a function display_person() which prints the age and name of a person.\n",
    "```\n",
    "let us say,\n",
    "\n",
    "if age>18 \n",
    "    he is major\n",
    "else\n",
    "    raise exception\n",
    "\n",
    "create cusomException named ismajor and raise it if age<18.\n",
    "```"
   ]
  }
 ],
 "metadata": {
  "language_info": {
   "name": "python"
  }
 },
 "nbformat": 4,
 "nbformat_minor": 2
}
