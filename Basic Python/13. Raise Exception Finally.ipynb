{
 "cells": [
  {
   "cell_type": "markdown",
   "metadata": {},
   "source": [
    "## Exercise: Raise Exception And Finally\n",
    "\n",
    "1. Create a custom exception AdultException.\n",
    "\n",
    "2. Create a class Person with attributes name and age in it.\n",
    "\n",
    "3. Create a function get_minor_age() in the class. It throws an exception if the person is adult otherwise returns age.\n",
    "\n",
    "4. Create a function display_person() which prints the age and name of a person."
   ]
  },
  {
   "cell_type": "code",
   "execution_count": null,
   "metadata": {},
   "outputs": [
    {
     "name": "stdout",
     "output_type": "stream",
     "text": [
      "<bound method Person.get_minor_age of Person('Rohit', 23)>\n"
     ]
    }
   ],
   "source": [
    "class AdultException (Exception):\n",
    "    def __init__ (self, msg):\n",
    "        self.msg=msg\n",
    "    def print_exception (self):\n",
    "        print(f\"Execption: {self.msg}\")\n",
    "\n",
    "class Person(AdultException):\n",
    "\n",
    "    def __init__ (self, name, age):\n",
    "        self.name = name\n",
    "        self.age = age\n",
    "\n",
    "    def get_minor_age(self,age):\n",
    "        try:\n",
    "            if self.age > 18:\n",
    "               raise AdultException('The person is adult')\n",
    "        except AdultException as e:\n",
    "            e.print_exception()\n",
    "            \n",
    "    def display_person(self):\n",
    "        print(f\"Age: {self.age} \\nName: {self.name}\")\n",
    "\n",
    "person1 = Person('Rohit',23)\n",
    "print(person1.get_minor_age)\n"
   ]
  },
  {
   "cell_type": "code",
   "execution_count": null,
   "metadata": {},
   "outputs": [],
   "source": []
  }
 ],
 "metadata": {
  "kernelspec": {
   "display_name": "Python 3",
   "language": "python",
   "name": "python3"
  },
  "language_info": {
   "codemirror_mode": {
    "name": "ipython",
    "version": 3
   },
   "file_extension": ".py",
   "mimetype": "text/x-python",
   "name": "python",
   "nbconvert_exporter": "python",
   "pygments_lexer": "ipython3",
   "version": "3.8.0"
  }
 },
 "nbformat": 4,
 "nbformat_minor": 2
}
