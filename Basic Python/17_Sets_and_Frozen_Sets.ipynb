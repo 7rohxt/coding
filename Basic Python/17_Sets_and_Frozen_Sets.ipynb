{
 "cells": [
  {
   "cell_type": "markdown",
   "metadata": {},
   "source": [
    "## Exercise: Sets and Frozen Sets\n",
    "\n",
    "\n",
    "1. create any set anf try to use frozenset(setname)\n",
    "\n",
    "\n",
    "2. Find the elements in a given set that are not in another set\n",
    "\n",
    "\n",
    "```\n",
    "    set1 = {1,2,3,4,5}\n",
    "    set2 = {4,5,6,7,8}\n",
    "\n",
    "    diffrence between set1 and set2 is {1,2,3}\n",
    "     \n",
    "```\n"
   ]
  }
 ],
 "metadata": {
  "language_info": {
   "name": "python"
  }
 },
 "nbformat": 4,
 "nbformat_minor": 2
}
