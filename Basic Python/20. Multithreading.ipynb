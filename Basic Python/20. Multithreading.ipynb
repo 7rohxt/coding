{
 "cells": [
  {
   "cell_type": "markdown",
   "metadata": {},
   "source": [
    "## Exercise: Multithreading\n",
    "\n",
    "1. Create any multithreaded code using for loop for creating multithreads\n",
    "\n",
    "```\n",
    "for i in range(10):\n",
    "    th = Thread(target=func_name, args=(i, ))\n",
    "    \n",
    "```\n"
   ]
  },
  {
   "cell_type": "markdown",
   "metadata": {},
   "source": [
    "2. Print total active threads in multithreaded code using threading.active_count()\n"
   ]
  }
 ],
 "metadata": {
  "language_info": {
   "name": "python"
  }
 },
 "nbformat": 4,
 "nbformat_minor": 2
}
