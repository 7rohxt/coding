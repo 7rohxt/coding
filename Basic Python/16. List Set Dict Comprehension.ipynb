{
 "cells": [
  {
   "cell_type": "markdown",
   "metadata": {},
   "source": [
    "## Exercise: List Set Dict Comprehensions\n",
    "\n",
    "\n",
    "1. Create a Dictionary which contains the Binary values mapping with numbers found in the below integer and binary and save it in binary_dict. \n",
    "\n",
    "Example :\n",
    "```\n",
    "    integer = [0, 1, 2, 3, 4]\n",
    "    binary = [\"0\", \"1\", \"10\", \"11\", \"100\"]\n",
    "    binary_dict = {0:\"0\", 1:\"1\", 2:\"10\", 3: \"11\", 4:\"100\"}\n",
    "```\n"
   ]
  },
  {
   "cell_type": "code",
   "execution_count": null,
   "metadata": {},
   "outputs": [],
   "source": []
  },
  {
   "cell_type": "markdown",
   "metadata": {},
   "source": [
    "2. Create a List which contains additive inverse of a given integer list. \n",
    "An additive inverse `a` for an integer `i` is a number such that:\n",
    "```\n",
    "a + i = 0\n",
    "```\n",
    "Example:\n",
    "```\n",
    "integer = [1, -1, 2, 3, 5, 0, -7]\n",
    "additive_inverse = [-1, 1, -2, -3, -5, 0, 7]\n",
    "```\n"
   ]
  },
  {
   "cell_type": "code",
   "execution_count": null,
   "metadata": {},
   "outputs": [],
   "source": []
  },
  {
   "cell_type": "markdown",
   "metadata": {},
   "source": [
    "3. Create a set which only contains unique sqaures from a given a integer list.\n",
    "```\n",
    "integer = [1, -1, 2, -2, 3, -3]\n",
    "sq_set = {1, 4, 9}\n",
    "```\n"
   ]
  },
  {
   "cell_type": "code",
   "execution_count": null,
   "metadata": {},
   "outputs": [],
   "source": []
  }
 ],
 "metadata": {
  "language_info": {
   "name": "python"
  }
 },
 "nbformat": 4,
 "nbformat_minor": 2
}
