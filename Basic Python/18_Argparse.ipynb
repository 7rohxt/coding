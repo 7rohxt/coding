{
 "cells": [
  {
   "cell_type": "markdown",
   "metadata": {},
   "source": [
    "## Exercise: Commandline Argument Processing using argparse\n",
    "\n",
    "1. Take subject marks as command line arguments \n",
    "\n",
    "```\n",
    "example: \n",
    "    python3 cmd.py --physics 60 --chemistry 70 --maths 90\n",
    "```\n"
   ]
  },
  {
   "cell_type": "markdown",
   "metadata": {},
   "source": [
    "2. Find average marks for the three subjects using command line input of marks.\n"
   ]
  }
 ],
 "metadata": {
  "language_info": {
   "name": "python"
  }
 },
 "nbformat": 4,
 "nbformat_minor": 2
}
