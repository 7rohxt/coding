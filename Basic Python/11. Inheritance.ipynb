{
 "cells": [
  {
   "cell_type": "markdown",
   "metadata": {},
   "source": [
    "## Exercise: Inheritance\n",
    "\n",
    "1. create inheritance using animal Dog relation.\n",
    "\n",
    "\n",
    "```\n",
    "for example, \n",
    "    Animal and Dog both has same habitat so create a method for habitat \n",
    "```\n"
   ]
  },
  {
   "cell_type": "markdown",
   "metadata": {},
   "source": [
    "2. use super() constructor for calling parent constructor.\n",
    "\n",
    "```\n",
    "class Animal:\n",
    "    #code\n",
    "\n",
    "class Dog(Animal):\n",
    "    super()-it refers Animal class,now you can call Animal's methods.\n",
    "```\n"
   ]
  }
 ],
 "metadata": {
  "language_info": {
   "name": "python"
  }
 },
 "nbformat": 4,
 "nbformat_minor": 2
}
