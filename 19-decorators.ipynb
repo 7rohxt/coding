{
 "cells": [
  {
   "cell_type": "markdown",
   "metadata": {},
   "source": [
    "## Exercise: Decorators\n",
    "\n",
    "1. Create a decorator function to check that the argument passed to the function factorial is a non-negative integer:\n"
   ]
  },
  {
   "cell_type": "markdown",
   "metadata": {},
   "source": [
    "2. Create a factorial function which finds the factorial of a number.\n"
   ]
  },
  {
   "cell_type": "markdown",
   "metadata": {},
   "source": [
    "3. Use the decorator to decorate the factorial function to only allow factorial of non-negative integers.\n",
    "```\n",
    "example: \n",
    "\n",
    "    factorial(1.354) : raise Exception or print error message\n",
    "    factorial(-1) : raise Exception or print error message\n",
    "    factorial(5) : 60\n",
    "\n",
    "```"
   ]
  }
 ],
 "metadata": {
  "language_info": {
   "name": "python"
  }
 },
 "nbformat": 4,
 "nbformat_minor": 2
}
